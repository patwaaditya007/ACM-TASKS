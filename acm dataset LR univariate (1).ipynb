{
 "cells": [
  {
   "cell_type": "code",
   "execution_count": 2,
   "metadata": {},
   "outputs": [],
   "source": [
    "import numpy as np\n",
    "import math\n",
    "from statistics import mean\n",
    "import pandas as pd\n",
    "from sklearn.linear_model import LinearRegression"
   ]
  },
  {
   "cell_type": "code",
   "execution_count": null,
   "metadata": {},
   "outputs": [],
   "source": []
  },
  {
   "cell_type": "code",
   "execution_count": 3,
   "metadata": {},
   "outputs": [
    {
     "data": {
      "text/plain": [
       "'C:\\\\Users\\\\Aditya'"
      ]
     },
     "execution_count": 3,
     "metadata": {},
     "output_type": "execute_result"
    }
   ],
   "source": [
    "pwd\n"
   ]
  },
  {
   "cell_type": "code",
   "execution_count": 4,
   "metadata": {},
   "outputs": [],
   "source": [
    "d1=pd.read_csv(r\"C:\\Users\\Aditya\\Downloads\\acm_task_dataset-master\\acm_task_dataset-master\\train.csv\")\n",
    "d2=pd.read_csv(r\"C:\\Users\\Aditya\\Downloads\\acm_task_dataset-master\\acm_task_dataset-master\\test.csv\")"
   ]
  },
  {
   "cell_type": "code",
   "execution_count": 12,
   "metadata": {},
   "outputs": [
    {
     "name": "stdout",
     "output_type": "stream",
     "text": [
      "699\n"
     ]
    }
   ],
   "source": [
    "train=np.array(d1.dropna(),dtype=np.float64)\n",
    "test=np.array(d2.dropna(),dtype=np.float64)\n",
    "\n",
    "\n",
    "print(len(train))\n",
    "x1=np.array(train[:,0])\n",
    "x2=np.array(test[:,0])\n",
    "y1=np.array(train[:,1])\n",
    "y2=np.array(test[:,1])"
   ]
  },
  {
   "cell_type": "code",
   "execution_count": 7,
   "metadata": {},
   "outputs": [
    {
     "name": "stdout",
     "output_type": "stream",
     "text": [
      "71.0\n"
     ]
    }
   ],
   "source": [
    "print(x1[215])\n"
   ]
  },
  {
   "cell_type": "code",
   "execution_count": 13,
   "metadata": {},
   "outputs": [],
   "source": [
    "def slope(x,y):\n",
    "    \n",
    "    m = (((mean(x)*mean(y)) - mean(x*y)) /\n",
    "         ((mean(x)*mean(x)) - mean(x*x)))\n",
    "       \n",
    "    b=mean(y)-m*mean(x)\n",
    "    return m,b\n",
    "def se(y_orig,y_regr):\n",
    "    return sum((y_regr-y_orig)*(y_regr-y_orig))\n",
    "\n",
    "def cod(y_orig,y_regr):\n",
    "    y_mean_line= [mean(y_orig) for y in y_orig]\n",
    "    se_reg= se(y_orig,y_regr)\n",
    "    se_mean= se(y_orig,y_mean_line)\n",
    "    return 1- (se_reg/se_mean)\n",
    "\n"
   ]
  },
  {
   "cell_type": "code",
   "execution_count": 14,
   "metadata": {},
   "outputs": [
    {
     "name": "stdout",
     "output_type": "stream",
     "text": [
      "0.9907015319025518\n"
     ]
    }
   ],
   "source": [
    "m,b = slope(x1,y1)\n",
    "\n",
    "regression_line= [(m*x)+b for x in x1]\n",
    "r_squared= cod(y1,regression_line)\n",
    "print(r_squared)"
   ]
  },
  {
   "cell_type": "code",
   "execution_count": null,
   "metadata": {},
   "outputs": [],
   "source": []
  },
  {
   "cell_type": "code",
   "execution_count": null,
   "metadata": {},
   "outputs": [],
   "source": []
  }
 ],
 "metadata": {
  "kernelspec": {
   "display_name": "Python 3",
   "language": "python",
   "name": "python3"
  },
  "language_info": {
   "codemirror_mode": {
    "name": "ipython",
    "version": 3
   },
   "file_extension": ".py",
   "mimetype": "text/x-python",
   "name": "python",
   "nbconvert_exporter": "python",
   "pygments_lexer": "ipython3",
   "version": "3.7.6"
  }
 },
 "nbformat": 4,
 "nbformat_minor": 4
}
