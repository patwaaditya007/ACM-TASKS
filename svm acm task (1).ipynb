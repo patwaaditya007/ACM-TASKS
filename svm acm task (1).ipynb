{
 "cells": [
  {
   "cell_type": "code",
   "execution_count": 1,
   "metadata": {},
   "outputs": [],
   "source": [
    "import numpy as np\n",
    "import pandas as pd \n",
    "import datetime\n",
    "from sklearn.model_selection import train_test_split\n",
    "from sklearn import svm\n",
    "from sklearn import preprocessing, svm\n",
    "\n",
    "from pandas.api.types import is_numeric_dtype"
   ]
  },
  {
   "cell_type": "code",
   "execution_count": 4,
   "metadata": {},
   "outputs": [
    {
     "data": {
      "text/plain": [
       "0    788918400000000000\n",
       "1    788918400000000000\n",
       "2    789523200000000000\n",
       "3    790128000000000000\n",
       "4    790128000000000000\n",
       "Name: Close Approach Date, dtype: int64"
      ]
     },
     "execution_count": 4,
     "metadata": {},
     "output_type": "execute_result"
    }
   ],
   "source": [
    "df=pd.read_csv('nasa.csv')\n",
    "df['Close Approach Date']= pd.to_datetime(df['Close Approach Date'])\n",
    "df['Close Approach Date'] = pd.to_numeric(df['Close Approach Date'], errors='coerce')\n",
    "df['Hazardous']=df['Hazardous'].astype(int)\n",
    "df = df.replace(np.nan, 0, regex=True)\n",
    "\n",
    "df['Close Approach Date'].head()"
   ]
  },
  {
   "cell_type": "code",
   "execution_count": 305,
   "metadata": {},
   "outputs": [],
   "source": [
    "df['mean est dia']=(df['Est Dia in KM(min)']+df['Est Dia in KM(max)'])/2\n",
    "\n",
    "\n",
    "df=df[['Absolute Magnitude','mean est dia','Close Approach Date','Relative Velocity km per sec','Miss Dist.(kilometers)','Orbit Uncertainity','Inclination','Asc Node Longitude','Orbital Period','Perihelion Distance','Perihelion Time','Perihelion Arg','Mean Anomaly','Mean Motion','Hazardous']]\n",
    "\n",
    "df = df.replace(np.nan, 0, regex=True)\n",
    "df['Close Approach Date']=df['Close Approach Date']"
   ]
  },
  {
   "cell_type": "code",
   "execution_count": 306,
   "metadata": {},
   "outputs": [],
   "source": [
    "this = 'Hazardous'"
   ]
  },
  {
   "cell_type": "code",
   "execution_count": 307,
   "metadata": {},
   "outputs": [],
   "source": [
    "number_of_predictions=100\n",
    "df['label'] = df[this].shift(-number_of_predictions)"
   ]
  },
  {
   "cell_type": "code",
   "execution_count": null,
   "metadata": {},
   "outputs": [],
   "source": []
  },
  {
   "cell_type": "code",
   "execution_count": 308,
   "metadata": {},
   "outputs": [
    {
     "name": "stdout",
     "output_type": "stream",
     "text": [
      "Absolute Magnitude              float64\n",
      "mean est dia                    float64\n",
      "Close Approach Date               int64\n",
      "Relative Velocity km per sec    float64\n",
      "Miss Dist.(kilometers)          float64\n",
      "Orbit Uncertainity                int64\n",
      "Inclination                     float64\n",
      "Asc Node Longitude              float64\n",
      "Orbital Period                  float64\n",
      "Perihelion Distance             float64\n",
      "Perihelion Time                 float64\n",
      "Perihelion Arg                  float64\n",
      "Mean Anomaly                    float64\n",
      "Mean Motion                     float64\n",
      "Hazardous                         int32\n",
      "label                           float64\n",
      "dtype: object\n"
     ]
    }
   ],
   "source": [
    "print(df.dtypes)"
   ]
  },
  {
   "cell_type": "code",
   "execution_count": 309,
   "metadata": {},
   "outputs": [],
   "source": [
    "X = np.array(df)\n",
    "X_lately = X[-number_of_predictions:]\n",
    "X = X[:-number_of_predictions]\n",
    "y = np.array(df.dropna()['label'])\n",
    "\n",
    "X_train, X_test, y_train, y_test = train_test_split(X, y, train_size=0.8)"
   ]
  },
  {
   "cell_type": "code",
   "execution_count": 310,
   "metadata": {},
   "outputs": [],
   "source": [
    "#x_lately=np.nan_to_num(X_lately)\n",
    "#X_train = np.nan_to_num(X_train)\n",
    "#y_train=np.nan_to_num(y_train)\n",
    "#X_test=np.nan_to_num(X_test)\n",
    "#y_test=np.nan_to_num(y_test)"
   ]
  },
  {
   "cell_type": "code",
   "execution_count": 311,
   "metadata": {},
   "outputs": [
    {
     "name": "stdout",
     "output_type": "stream",
     "text": [
      "0.835511982570806\n"
     ]
    }
   ],
   "source": [
    "\n",
    "clf1 = svm.SVC()\n",
    "clf1.fit(X_train,y_train)\n",
    "forecast1 = clf1.predict(X_test)\n",
    "confidence = clf1.score(X_test,y_test)\n",
    "print(confidence)"
   ]
  },
  {
   "cell_type": "code",
   "execution_count": null,
   "metadata": {},
   "outputs": [],
   "source": []
  }
 ],
 "metadata": {
  "kernelspec": {
   "display_name": "Python 3",
   "language": "python",
   "name": "python3"
  },
  "language_info": {
   "codemirror_mode": {
    "name": "ipython",
    "version": 3
   },
   "file_extension": ".py",
   "mimetype": "text/x-python",
   "name": "python",
   "nbconvert_exporter": "python",
   "pygments_lexer": "ipython3",
   "version": "3.7.6"
  }
 },
 "nbformat": 4,
 "nbformat_minor": 4
}
